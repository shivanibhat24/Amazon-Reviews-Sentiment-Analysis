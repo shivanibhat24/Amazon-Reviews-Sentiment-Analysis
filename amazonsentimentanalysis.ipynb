{
 "cells": [
  {
   "cell_type": "code",
   "execution_count": 1,
   "metadata": {},
   "outputs": [
    {
     "ename": "ModuleNotFoundError",
     "evalue": "No module named 'wordcloud'",
     "output_type": "error",
     "traceback": [
      "\u001b[1;31m---------------------------------------------------------------------------\u001b[0m",
      "\u001b[1;31mModuleNotFoundError\u001b[0m                       Traceback (most recent call last)",
      "Cell \u001b[1;32mIn[1], line 7\u001b[0m\n\u001b[0;32m      5\u001b[0m \u001b[38;5;28;01mimport\u001b[39;00m \u001b[38;5;21;01mre\u001b[39;00m \n\u001b[0;32m      6\u001b[0m \u001b[38;5;28;01mfrom\u001b[39;00m \u001b[38;5;21;01mtextblob\u001b[39;00m \u001b[38;5;28;01mimport\u001b[39;00m TextBlob \u001b[38;5;66;03m#Used to process textual data\u001b[39;00m\n\u001b[1;32m----> 7\u001b[0m \u001b[38;5;28;01mfrom\u001b[39;00m \u001b[38;5;21;01mwordcloud\u001b[39;00m \u001b[38;5;28;01mimport\u001b[39;00m WordCloud\n\u001b[0;32m      8\u001b[0m \u001b[38;5;28;01mimport\u001b[39;00m \u001b[38;5;21;01mseaborn\u001b[39;00m \u001b[38;5;28;01mas\u001b[39;00m \u001b[38;5;21;01msns\u001b[39;00m\n\u001b[0;32m      9\u001b[0m \u001b[38;5;28;01mimport\u001b[39;00m \u001b[38;5;21;01mmatplotlib\u001b[39;00m\u001b[38;5;21;01m.\u001b[39;00m\u001b[38;5;21;01mpyplot\u001b[39;00m \u001b[38;5;28;01mas\u001b[39;00m \u001b[38;5;21;01mplt\u001b[39;00m\n",
      "\u001b[1;31mModuleNotFoundError\u001b[0m: No module named 'wordcloud'"
     ]
    }
   ],
   "source": [
    "import numpy as np #for arrays and linear regression numpy=Numerical Python\n",
    "import pandas as pd #for data manipulation of numerical tables\n",
    "import nltk #Natural Language Tool Kit for parsing, classification it has text processing libraries\n",
    "from nltk.sentiment.vader import SentimentIntensityAnalyzer\n",
    "import re \n",
    "from textblob import TextBlob #Used to process textual data\n",
    "from wordcloud import WordCloud\n",
    "import seaborn as sns\n",
    "import matplotlib.pyplot as plt\n",
    "import cufflinks as cf\n",
    "inline %matplotlib\n",
    "from plotly.offline import init_notebook_mode, iplot\n",
    "init_notebook_mode(connected=True)\n",
    "cf.go_offline()\n",
    "import plotly.graph_objs as go\n",
    "from plotly.subplots import make_subplots\n",
    "import warnings\n",
    "warnings.filterwarnings(\"ignore\")\n",
    "warnings.warn(\"This will not be shown\")\n",
    "pd.set_option('display_max_columns',None)"
   ]
  },
  {
   "cell_type": "code",
   "execution_count": null,
   "metadata": {},
   "outputs": [],
   "source": [
    "df=pd.readcsv(amazon.csv)"
   ]
  },
  {
   "cell_type": "code",
   "execution_count": null,
   "metadata": {},
   "outputs": [],
   "source": [
    "df.head()"
   ]
  },
  {
   "cell_type": "code",
   "execution_count": null,
   "metadata": {},
   "outputs": [],
   "source": [
    "df=df.setvalues(\"wilson_lower_bound\",ascending=False)\n",
    "df.drop('Unnamed:0',inplace=True,axis=1)\n",
    "df.head()"
   ]
  },
  {
   "cell_type": "code",
   "execution_count": null,
   "metadata": {},
   "outputs": [],
   "source": [
    "def missing_values_analysis(df):\n",
    "    na_columns=[col for col in df.columns if df[col].isnull().sum()]\n",
    "    n_miss=df[na_columns].isnull().sum().sort_values(ascending=True)\n",
    "    ratio_=(df.[na_columns].isnull().sum()/df.shape([0]*100).sort_values(ascending=True))\n",
    "    missing_df=pd.concat([n_miss,np.round(ratio_,2)], axis=1, keys=['Missing Values','Ratio'])\n",
    "    missing_df=pd.Dataframe(missing_df)\n",
    "    return missing_df\n",
    "\n",
    "def check_dataframe(df,head=5,tail=5):\n",
    "    print(\"SHAPE\",center(82,'~'))\n",
    "    print('Rows:()'.format(df.shape[0]))\n",
    "    print('Columns:()'.format(df.shape[1]))\n",
    "    print(\"TYPES\",center(82,'~'))\n",
    "    print(df.dtypes)\n",
    "    print(\"\",center(82,'~'))\n",
    "    print(missing_values_analysis(df))\n",
    "    print('DUPLICATED VALUES',center(83,'~'))\n",
    "    print(df.duplicated().sum())\n",
    "    print('QUANTILES',center(82,'~'))\n",
    "    print(df.quantile(0,0.5,0.50,0.95,0.99,1))\n",
    "\n",
    "check_dataframe(df)"
   ]
  },
  {
   "cell_type": "code",
   "execution_count": null,
   "metadata": {},
   "outputs": [],
   "source": [
    "def check_class(dataframe):\n",
    "    nunique_df=pd.dataframe({'Variable':dataframe.columns,'classes':[dataframe[i].nunique()\\for i in dataframe.columns]})\n",
    "    nunique_df=nunique_df.sort_values('Classes',ascending=False)\n",
    "    nunique_df=nunique_df.reset_index(drop=True)\n",
    "    return nunique_df\n",
    "check_class(df)"
   ]
  },
  {
   "cell_type": "code",
   "execution_count": null,
   "metadata": {},
   "outputs": [],
   "source": [
    "constraints=['#B34D22','#EBE00C','#1FEB0C','#0C92EB','#EB0CD5']\n",
    "def categorical_variable_summary(df,column_name):\n",
    "    fig=make_subplots(rows=1,cols=2,subplot_titles('Countplot','Percentage'),specs:[[{\"types\":\"xy\"},{\"types\":\"domain\"}]])\n",
    "    fig.addtrace(go.Bar(y=df[column_name].value_counts().values.tolist(),\n",
    "                        x=[str(i)for i in df[column_name].value_counts().index],\n",
    "                        text=df[column_name].value_counts().values.tolist(),\n",
    "                        textfont=dict(size=14),\n",
    "                        name=column_name,\n",
    "                        textposition='auto',\n",
    "                        showlegend=False,\n",
    "                        marker=dict(color=constraints,line=dict(colour=\"#DBE6EC\",width=1))),row=1,column=1)\n",
    "    fig.addtrace(go.Pie(labels=df[column_name].value_counts.keys(),values=df[column_name].value_counts().values,\n",
    "                       textfont=dict(size=18),\n",
    "                       textposition=\"auto\",\n",
    "                       showlegend=False,\n",
    "                       name=column_name,\n",
    "                       marker=dict(colors=constraints)),row=1,col=2)\n",
    "    fig.update_layout(title={'text'=column_name,'y'=0.9,'x=0.5','xanchor'='center','yanchor'='top',template='plotly_white'})\n",
    "categorical_variable_summary(df,'overall')\n",
    "df.reviewText.head()"
   ]
  },
  {
   "cell_type": "code",
   "execution_count": null,
   "metadata": {},
   "outputs": [],
   "source": [
    "review_example=df.reviewText[2031]\n",
    "review_example"
   ]
  },
  {
   "cell_type": "code",
   "execution_count": null,
   "metadata": {},
   "outputs": [],
   "source": [
    "review_example=re.sub(\"[^a-zA-Z]\",'',review_example)\n",
    "review_example"
   ]
  },
  {
   "cell_type": "code",
   "execution_count": null,
   "metadata": {},
   "outputs": [],
   "source": [
    "review_example=review_example.lower().split()\n",
    "review_example"
   ]
  },
  {
   "cell_type": "code",
   "execution_count": null,
   "metadata": {},
   "outputs": [],
   "source": [
    "rt=lambda x:re.sub(\"[^a-zA-Z]\",'',str(x))\n",
    "df[\"reviewText\"]=df[\"reviewText\"].map(rt)\n",
    "df[\"reviewText\"]=df[\"reviewText\"].str.lower()\n",
    "df.head()"
   ]
  },
  {
   "cell_type": "code",
   "execution_count": null,
   "metadata": {},
   "outputs": [],
   "source": [
    "from vaderSentiment.vaderSentiment import SentimentIntensityAnalyser\n",
    "df[{'polarity','subjectivity'}]=df['reviewText'].apply(lambda Text:pd.Series(Textblob(Text).sentiment))\n",
    "for index, row in df['reviewText'].iteritems():\n",
    "    score=SentimentIntensityAnalyser().polarity_scores(row)\n",
    "    neg=score['neg']\n",
    "    neu=score['neu']\n",
    "    pos=score['pos']\n",
    "    if(neg>pos):\n",
    "        df.loc[index,'sentiment']='Negative'\n",
    "    elif(pos>neg):\n",
    "        df.loc[index,'sentiment']='Positive'\n",
    "    else:\n",
    "        df.loc[index,'sentiment']='Neutral'"
   ]
  },
  {
   "cell_type": "code",
   "execution_count": null,
   "metadata": {},
   "outputs": [],
   "source": [
    "df[df['sentiment']=='Positive'].sort_values(\"wilson_lower_bound\",ascending=False).head(5)"
   ]
  },
  {
   "cell_type": "code",
   "execution_count": null,
   "metadata": {},
   "outputs": [],
   "source": [
    "categorical_variable_summary(df,'sentiment')"
   ]
  }
 ],
 "metadata": {
  "kernelspec": {
   "display_name": "Python 3",
   "language": "python",
   "name": "python3"
  },
  "language_info": {
   "codemirror_mode": {
    "name": "ipython",
    "version": 3
   },
   "file_extension": ".py",
   "mimetype": "text/x-python",
   "name": "python",
   "nbconvert_exporter": "python",
   "pygments_lexer": "ipython3",
   "version": "3.9.5"
  }
 },
 "nbformat": 4,
 "nbformat_minor": 2
}
